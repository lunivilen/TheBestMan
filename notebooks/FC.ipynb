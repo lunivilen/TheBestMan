{
 "cells": [
  {
   "cell_type": "code",
   "execution_count": null,
   "outputs": [],
   "source": [
    "import torch\n",
    "from torch.utils.data import random_split, DataLoader\n",
    "from sklearn.metrics import roc_auc_score, roc_curve\n",
    "from data_loader import SimpleDatasetLoader\n",
    "import matplotlib.pyplot as plt\n",
    "from torch import nn, optim\n",
    "from models.FC import *\n",
    "import pandas as pd"
   ],
   "metadata": {
    "collapsed": false
   },
   "id": "ab67be75a99203a9"
  },
  {
   "cell_type": "code",
   "execution_count": null,
   "outputs": [],
   "source": [
    "df = pd.read_csv(\"../data/scoring_case.csv\")\n",
    "\n",
    "for column in df.columns:\n",
    "    if str(df[column].dtype) == 'object':\n",
    "        df[column] = pd.factorize(df[column])[0]"
   ],
   "metadata": {
    "collapsed": false
   },
   "id": "2549c3b87ebe005f"
  },
  {
   "cell_type": "code",
   "execution_count": null,
   "outputs": [],
   "source": [
    "df.dropna(axis=1, thresh=int(0.8 * df.shape[0]), inplace=True)\n",
    "df = df.drop([\"FLAG_MOBIL\", \"SK_ID_CURR\"], axis=1)\n",
    "1 - df.isna().sum() / len(df)"
   ],
   "metadata": {
    "collapsed": false
   },
   "id": "13273fd2b58ae697"
  },
  {
   "cell_type": "code",
   "execution_count": null,
   "outputs": [],
   "source": [
    "for column in df.columns:\n",
    "    if column == 'TARGET':\n",
    "        continue\n",
    "\n",
    "    df[column] = df[column].fillna(round(df[column].mode()))"
   ],
   "metadata": {
    "collapsed": false
   },
   "id": "e66a9cc86f5a31cc"
  },
  {
   "cell_type": "code",
   "execution_count": null,
   "outputs": [],
   "source": [
    "df = df.dropna()\n",
    "df = df.reset_index(drop=True)"
   ],
   "metadata": {
    "collapsed": false
   },
   "id": "initial_id"
  },
  {
   "cell_type": "code",
   "execution_count": null,
   "outputs": [],
   "source": [
    "dataset = SimpleDatasetLoader(df)\n",
    "train_amount_data = len(dataset) * 2 // 3\n",
    "train, test = random_split(dataset, [train_amount_data, len(dataset) - train_amount_data])"
   ],
   "metadata": {
    "collapsed": false
   },
   "id": "3cd5773d6c78b8ee"
  },
  {
   "cell_type": "code",
   "execution_count": null,
   "outputs": [],
   "source": [
    "train_loader = DataLoader(train, batch_size=32)\n",
    "test_loader = DataLoader(test, batch_size=32)"
   ],
   "metadata": {
    "collapsed": false
   },
   "id": "d0b305f3598e81ab"
  },
  {
   "cell_type": "code",
   "execution_count": null,
   "outputs": [],
   "source": [
    "model = FC()\n",
    "criterion = nn.BCELoss()\n",
    "optimizer = optim.Adam(model.parameters())\n",
    "num_epochs = 15"
   ],
   "metadata": {
    "collapsed": false
   },
   "id": "6149c8904e460272"
  },
  {
   "cell_type": "code",
   "execution_count": null,
   "outputs": [],
   "source": [
    "train_model(model, train_loader, criterion, optimizer, num_epochs)"
   ],
   "metadata": {
    "collapsed": false
   },
   "id": "e12528a7f19ef3ef"
  },
  {
   "cell_type": "code",
   "execution_count": null,
   "outputs": [],
   "source": [
    "fig, axs = plt.subplots(1, 2, figsize=(15, 5))\n",
    "title = [\"train\", \"test\"]\n",
    "for i, loader in enumerate([train_loader, test_loader]):\n",
    "    prediction, target_list = get_prediction(model, loader)\n",
    "    logit_roc_aut = roc_auc_score(target_list, prediction)\n",
    "    fpr, tpr, thresholds = roc_curve(target_list, prediction)\n",
    "    \n",
    "    axs[i].plot(fpr, tpr, logit_roc_aut)\n",
    "    axs[i].plot([0, 1], [0, 1], '--')\n",
    "    axs[i].set_title(f\"{title[i]} - ({round(logit_roc_aut, 4)})\")\n",
    "plt.show()"
   ],
   "metadata": {
    "collapsed": false
   },
   "id": "bb20ea4d9f36083e"
  },
  {
   "cell_type": "code",
   "execution_count": null,
   "outputs": [],
   "source": [
    "model.load_state_dict(torch.load(\"../weigh/2.pt\"))"
   ],
   "metadata": {
    "collapsed": false
   },
   "id": "c3aebda3379219b2"
  },
  {
   "cell_type": "code",
   "execution_count": null,
   "outputs": [],
   "source": [
    "# torch.save(model.state_dict(), \"../weigh/2.pt\")"
   ],
   "metadata": {
    "collapsed": false
   },
   "id": "fafd6b80c0fc90bf"
  }
 ],
 "metadata": {
  "kernelspec": {
   "display_name": "Python 3",
   "language": "python",
   "name": "python3"
  },
  "language_info": {
   "codemirror_mode": {
    "name": "ipython",
    "version": 2
   },
   "file_extension": ".py",
   "mimetype": "text/x-python",
   "name": "python",
   "nbconvert_exporter": "python",
   "pygments_lexer": "ipython2",
   "version": "2.7.6"
  }
 },
 "nbformat": 4,
 "nbformat_minor": 5
}
