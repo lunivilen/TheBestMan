{
 "cells": [
  {
   "cell_type": "code",
   "execution_count": null,
   "outputs": [],
   "source": [
    "from torch.utils.data import random_split, DataLoader\n",
    "from data_loader import SimpleDatasetLoader\n",
    "from torch import nn, optim\n",
    "from models.FC import *\n",
    "import pandas as pd"
   ],
   "metadata": {
    "collapsed": false
   },
   "id": "ab67be75a99203a9"
  },
  {
   "cell_type": "code",
   "execution_count": null,
   "outputs": [],
   "source": [
    "df = pd.read_excel(\"../data/car_sales_train.xlsx\")\n",
    "df[\"model\"] = df[\"model\"].rank(method='dense', ascending=False).map(int)\n",
    "df[\"manufact\"] = df[\"manufact\"].rank(method='dense', ascending=False).map(int)"
   ],
   "metadata": {
    "collapsed": false
   },
   "id": "e66a9cc86f5a31cc"
  },
  {
   "cell_type": "code",
   "execution_count": null,
   "outputs": [],
   "source": [
    "df = df[df[\"sales\"].notna()]\n",
    "df = df.fillna(df.median())"
   ],
   "metadata": {
    "collapsed": false
   },
   "id": "4c3521ee17fbede6"
  },
  {
   "cell_type": "code",
   "execution_count": null,
   "outputs": [],
   "source": [
    "dataset =  SimpleDatasetLoader(df)"
   ],
   "metadata": {
    "collapsed": false
   },
   "id": "initial_id"
  },
  {
   "cell_type": "code",
   "execution_count": 9,
   "outputs": [
    {
     "name": "stdout",
     "output_type": "stream",
     "text": [
      "Fitting 2 folds for each of 20 candidates, totalling 40 fits\n",
      "0\n",
      "Best parameters: {'subsample': 0.5100000000000001, 'reg_lambda': 0.9999999999999999, 'n_estimators': 67, 'max_depth': 4, 'learning_rate': 0.40000000000000013, 'colsample_bytree': 0.5}\n",
      "MAPE: 6.711108222562074\n",
      "R2: -2.4615534959955117\n",
      "MSE: 3412.667554808686\n",
      "\n",
      "Fitting 2 folds for each of 20 candidates, totalling 40 fits\n",
      "1\n",
      "Best parameters: {'subsample': 0.5800000000000002, 'reg_lambda': 0.9999999999999999, 'n_estimators': 61, 'max_depth': 4, 'learning_rate': 0.30000000000000004, 'colsample_bytree': 0.4}\n",
      "MAPE: 5.997655962624971\n",
      "R2: -3.7818484274319335\n",
      "MSE: 4714.316563123558\n",
      "\n",
      "Fitting 2 folds for each of 20 candidates, totalling 40 fits\n",
      "2\n",
      "Best parameters: {'subsample': 0.5900000000000002, 'reg_lambda': 0.9999999999999999, 'n_estimators': 50, 'max_depth': 4, 'learning_rate': 0.3800000000000001, 'colsample_bytree': 0.5}\n",
      "MAPE: 10.980022627398135\n",
      "R2: -4.465442015436162\n",
      "MSE: 5388.256070675895\n",
      "\n",
      "Fitting 2 folds for each of 20 candidates, totalling 40 fits\n",
      "3\n",
      "Best parameters: {'subsample': 0.5000000000000001, 'reg_lambda': 0.7, 'n_estimators': 64, 'max_depth': 3, 'learning_rate': 0.29000000000000004, 'colsample_bytree': 0.5}\n",
      "MAPE: 9.75817962873395\n",
      "R2: -3.1002952179959307\n",
      "MSE: 4042.3886188035567\n",
      "\n",
      "Fitting 2 folds for each of 20 candidates, totalling 40 fits\n",
      "4\n",
      "Best parameters: {'subsample': 0.5800000000000002, 'reg_lambda': 0.8999999999999999, 'n_estimators': 54, 'max_depth': 4, 'learning_rate': 0.40000000000000013, 'colsample_bytree': 0.5}\n",
      "MAPE: 7.254402402728996\n",
      "R2: -7.385960444485162\n",
      "MSE: 8267.529350018933\n",
      "\n",
      "Fitting 2 folds for each of 20 candidates, totalling 40 fits\n",
      "5\n",
      "Best parameters: {'subsample': 0.5000000000000001, 'reg_lambda': 0.7999999999999999, 'n_estimators': 64, 'max_depth': 4, 'learning_rate': 0.3400000000000001, 'colsample_bytree': 0.4}\n",
      "MAPE: 15.820200744101506\n",
      "R2: -4.501793594777934\n",
      "MSE: 5424.094273242815\n",
      "\n",
      "Fitting 2 folds for each of 20 candidates, totalling 40 fits\n",
      "6\n",
      "Best parameters: {'subsample': 0.5700000000000002, 'reg_lambda': 0.9999999999999999, 'n_estimators': 60, 'max_depth': 3, 'learning_rate': 0.27, 'colsample_bytree': 0.5}\n",
      "MAPE: 11.262243343609967\n",
      "R2: -3.3620775738759843\n",
      "MSE: 4300.473941872156\n",
      "\n",
      "Fitting 2 folds for each of 20 candidates, totalling 40 fits\n",
      "7\n",
      "Best parameters: {'subsample': 0.5300000000000001, 'reg_lambda': 0.9999999999999999, 'n_estimators': 59, 'max_depth': 4, 'learning_rate': 0.40000000000000013, 'colsample_bytree': 0.4}\n",
      "MAPE: 7.0797944029592665\n",
      "R2: -2.962146335220754\n",
      "MSE: 3906.1907496892077\n",
      "\n",
      "Fitting 2 folds for each of 20 candidates, totalling 40 fits\n",
      "8\n",
      "Best parameters: {'subsample': 0.4900000000000001, 'reg_lambda': 0.8999999999999999, 'n_estimators': 58, 'max_depth': 3, 'learning_rate': 0.3400000000000001, 'colsample_bytree': 0.4}\n",
      "MAPE: 12.439142995270922\n",
      "R2: -2.576579530079355\n",
      "MSE: 3526.0691286772867\n",
      "\n",
      "Fitting 2 folds for each of 20 candidates, totalling 40 fits\n",
      "9\n",
      "Best parameters: {'subsample': 0.5800000000000002, 'reg_lambda': 0.8999999999999999, 'n_estimators': 66, 'max_depth': 4, 'learning_rate': 0.3800000000000001, 'colsample_bytree': 0.5}\n",
      "MAPE: 11.282114124146169\n",
      "R2: -4.118836501280167\n",
      "MSE: 5046.54550810729\n",
      "\n",
      "Fitting 2 folds for each of 20 candidates, totalling 40 fits\n"
     ]
    },
    {
     "name": "stderr",
     "output_type": "stream",
     "text": [
      "\n",
      "KeyboardInterrupt\n",
      "\n"
     ]
    }
   ],
   "source": [
    "train, test = random_split(dataset, [len(dataset)*2//3, len(dataset)//3])"
   ],
   "metadata": {
    "collapsed": false,
    "ExecuteTime": {
     "end_time": "2023-09-12T17:31:28.966357300Z",
     "start_time": "2023-09-12T17:30:31.437640900Z"
    }
   },
   "id": "3cd5773d6c78b8ee"
  },
  {
   "cell_type": "code",
   "execution_count": null,
   "outputs": [],
   "source": [
    "train_loader = DataLoader(train, batch_size=4)\n",
    "test_loader = DataLoader(test, batch_size=4)"
   ],
   "metadata": {
    "collapsed": false
   },
   "id": "d0b305f3598e81ab"
  },
  {
   "cell_type": "code",
   "execution_count": null,
   "outputs": [],
   "source": [
    "model = FC()\n",
    "criterion = nn.MSELoss()\n",
    "optimizer = optim.Adadelta(model.parameters())\n",
    "num_epochs = 500"
   ],
   "metadata": {
    "collapsed": false
   },
   "id": "6149c8904e460272"
  },
  {
   "cell_type": "code",
   "execution_count": null,
   "outputs": [],
   "source": [
    "train_model(model, train_loader, criterion, optimizer, num_epochs)"
   ],
   "metadata": {
    "collapsed": false
   },
   "id": "e12528a7f19ef3ef"
  },
  {
   "cell_type": "code",
   "execution_count": null,
   "outputs": [],
   "source": [
    "top_k_accuracy(model, train)"
   ],
   "metadata": {
    "collapsed": false
   },
   "id": "351d1eb97fd530af"
  },
  {
   "cell_type": "code",
   "execution_count": null,
   "outputs": [],
   "source": [],
   "metadata": {
    "collapsed": false
   },
   "id": "bb20ea4d9f36083e"
  }
 ],
 "metadata": {
  "kernelspec": {
   "display_name": "Python 3",
   "language": "python",
   "name": "python3"
  },
  "language_info": {
   "codemirror_mode": {
    "name": "ipython",
    "version": 2
   },
   "file_extension": ".py",
   "mimetype": "text/x-python",
   "name": "python",
   "nbconvert_exporter": "python",
   "pygments_lexer": "ipython2",
   "version": "2.7.6"
  }
 },
 "nbformat": 4,
 "nbformat_minor": 5
}
