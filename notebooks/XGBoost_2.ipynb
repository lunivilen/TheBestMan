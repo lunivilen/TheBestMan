{
 "cells": [
  {
   "cell_type": "code",
   "execution_count": 410,
   "outputs": [],
   "source": [
    "from sklearn.model_selection import train_test_split, RandomizedSearchCV, StratifiedKFold\n",
    "from sklearn.metrics import mean_squared_error, mean_absolute_percentage_error\n",
    "import matplotlib.pyplot as plt\n",
    "import xgboost as xgb\n",
    "import pandas as pd"
   ],
   "metadata": {
    "collapsed": false,
    "ExecuteTime": {
     "end_time": "2023-10-07T10:13:43.839421700Z",
     "start_time": "2023-10-07T10:13:43.596669700Z"
    }
   },
   "id": "ab67be75a99203a9"
  },
  {
   "cell_type": "code",
   "execution_count": 411,
   "outputs": [],
   "source": [
    "df = pd.read_csv(\"../data/housing_train_original.csv\")"
   ],
   "metadata": {
    "collapsed": false,
    "ExecuteTime": {
     "end_time": "2023-10-07T10:13:43.868185Z",
     "start_time": "2023-10-07T10:13:43.623819600Z"
    }
   },
   "id": "2549c3b87ebe005f"
  },
  {
   "cell_type": "code",
   "execution_count": 412,
   "outputs": [],
   "source": [
    "df = df.drop([\"Адрес\", \"e-mail\", \"Телефон\", \"Объявление\", \"Агент\", \"Агентство\"], axis=1)"
   ],
   "metadata": {
    "collapsed": false,
    "ExecuteTime": {
     "end_time": "2023-10-07T10:13:43.869864200Z",
     "start_time": "2023-10-07T10:13:43.714761800Z"
    }
   },
   "id": "637bae59c6119d57"
  },
  {
   "cell_type": "code",
   "execution_count": 413,
   "outputs": [],
   "source": [
    "for i in range(len(df)):\n",
    "    temp = df[\"Комнаты\"][i].split()\n",
    "    if len(temp) > 1:\n",
    "        df.loc[i, \"Комнаты\"] = temp[0]\n",
    "\n",
    "for i in range(len(df)):\n",
    "    temp = str(df[\"Этаж/Дом\"][i]).split('/')\n",
    "    if len(temp) > 1:\n",
    "        df.loc[i, \"Этаж/Дом\"] = int(temp[1])"
   ],
   "metadata": {
    "collapsed": false,
    "ExecuteTime": {
     "end_time": "2023-10-07T10:13:44.239769200Z",
     "start_time": "2023-10-07T10:13:43.730930500Z"
    }
   },
   "id": "eca61f4ac8a1ee56"
  },
  {
   "cell_type": "code",
   "execution_count": 414,
   "outputs": [],
   "source": [
    "for column in df.columns:\n",
    "    if str(df[column].dtype) == 'object':\n",
    "        df[column] = pd.factorize(df[column])[0]"
   ],
   "metadata": {
    "collapsed": false,
    "ExecuteTime": {
     "end_time": "2023-10-07T10:13:44.306557400Z",
     "start_time": "2023-10-07T10:13:44.248272200Z"
    }
   },
   "id": "3dbe673ed37c8d02"
  },
  {
   "cell_type": "code",
   "execution_count": 415,
   "outputs": [
    {
     "data": {
      "text/plain": "Комнаты          1.000000\nРайон            1.000000\nЭтаж/Дом         1.000000\nОбщая площадь    1.000000\nЖилая площадь    1.000000\nПлощадь кухни    1.000000\nЦена             0.769231\ndtype: float64"
     },
     "execution_count": 415,
     "metadata": {},
     "output_type": "execute_result"
    }
   ],
   "source": [
    "1 - df.isna().sum() / len(df)"
   ],
   "metadata": {
    "collapsed": false,
    "ExecuteTime": {
     "end_time": "2023-10-07T10:13:44.307564800Z",
     "start_time": "2023-10-07T10:13:44.277457Z"
    }
   },
   "id": "c8c1204c8cdd9919"
  },
  {
   "cell_type": "code",
   "execution_count": 416,
   "outputs": [],
   "source": [
    "df = df.dropna()"
   ],
   "metadata": {
    "collapsed": false,
    "ExecuteTime": {
     "end_time": "2023-10-07T10:13:44.334405Z",
     "start_time": "2023-10-07T10:13:44.308565900Z"
    }
   },
   "id": "initial_id"
  },
  {
   "cell_type": "code",
   "execution_count": 417,
   "outputs": [],
   "source": [
    "x = df.drop([\"Цена\"], axis=1)\n",
    "y = df[\"Цена\"]\n",
    "\n",
    "random_state = 64\n",
    "# Разделяем данные на обучающий и тестовый наборы\n",
    "x_train, x_test, y_train, y_test = train_test_split(x, y, test_size=0.3, random_state=random_state)"
   ],
   "metadata": {
    "collapsed": false,
    "ExecuteTime": {
     "end_time": "2023-10-07T10:13:44.395862100Z",
     "start_time": "2023-10-07T10:13:44.321831400Z"
    }
   },
   "id": "ffe309d39c53f279"
  },
  {
   "cell_type": "code",
   "execution_count": 448,
   "outputs": [
    {
     "name": "stdout",
     "output_type": "stream",
     "text": [
      "1\n"
     ]
    }
   ],
   "source": [
    "model = xgb.XGBRFRegressor(random_state=random_state,\n",
    "                           n_estimators=13,\n",
    "                           max_depth=7\n",
    "                           )\n",
    "model.fit(x_train, y_train)\n",
    "print(1)"
   ],
   "metadata": {
    "collapsed": false,
    "ExecuteTime": {
     "end_time": "2023-10-07T10:16:58.051767Z",
     "start_time": "2023-10-07T10:16:57.933817900Z"
    }
   },
   "id": "31fa0d71c0b9ace9"
  },
  {
   "cell_type": "code",
   "execution_count": 449,
   "outputs": [
    {
     "name": "stdout",
     "output_type": "stream",
     "text": [
      "train 92828.0460742715 0.08356153583231658\n",
      "test 307902.97391697083 0.10767141869445161\n"
     ]
    }
   ],
   "source": [
    "title = [\"train\", \"test\"]\n",
    "for i, data in enumerate([[x_train, y_train], [x_test, y_test]]):\n",
    "    prediction, target_list = model.predict(data[0]), data[1]\n",
    "    mse = mean_squared_error(target_list, prediction)\n",
    "    mape = mean_absolute_percentage_error(target_list, prediction)\n",
    "    print(title[i], mse, mape)"
   ],
   "metadata": {
    "collapsed": false,
    "ExecuteTime": {
     "end_time": "2023-10-07T10:16:58.908622500Z",
     "start_time": "2023-10-07T10:16:58.871841700Z"
    }
   },
   "id": "bb20ea4d9f36083e"
  },
  {
   "cell_type": "code",
   "execution_count": 421,
   "outputs": [],
   "source": [
    "df = pd.read_csv(\"../data/housing_train_original.csv\")\n",
    "\n",
    "df = df.drop([\"Адрес\", \"e-mail\", \"Телефон\", \"Объявление\", \"Агент\", \"Агентство\"], axis=1)\n",
    "\n",
    "for i in range(len(df)):\n",
    "    temp = df[\"Комнаты\"][i].split()\n",
    "    if len(temp) > 1:\n",
    "        df.loc[i, \"Комнаты\"] = temp[0]\n",
    "\n",
    "for i in range(len(df)):\n",
    "    temp = str(df[\"Этаж/Дом\"][i]).split('/')\n",
    "    if len(temp) > 1:\n",
    "        df.loc[i, \"Этаж/Дом\"] = int(temp[1])\n",
    "\n",
    "for column in df.columns:\n",
    "    if str(df[column].dtype) == 'object':\n",
    "        df[column] = pd.factorize(df[column])[0]\n",
    "        \n",
    "for column in df.columns:\n",
    "    if column == 'Цена':\n",
    "        continue\n",
    "\n",
    "    df[column] = df[column].fillna(round(df[column].mode()[0]))\n",
    "\n",
    "df = df[df[\"Цена\"].isna()]\n",
    "\n",
    "x = df.drop([\"Цена\"], axis=1)\n",
    "y = df[\"Цена\"]\n",
    "\n",
    "prediction = model.predict(x)\n",
    "prediction_df = pd.DataFrame(prediction, columns=[\"Цена\"])\n",
    "prediction_df.to_csv(\"prediction.csv\", index=False)"
   ],
   "metadata": {
    "collapsed": false,
    "ExecuteTime": {
     "end_time": "2023-10-07T10:13:53.559923800Z",
     "start_time": "2023-10-07T10:13:52.816385800Z"
    }
   },
   "id": "d7baecda08d2e88"
  }
 ],
 "metadata": {
  "kernelspec": {
   "display_name": "Python 3",
   "language": "python",
   "name": "python3"
  },
  "language_info": {
   "codemirror_mode": {
    "name": "ipython",
    "version": 2
   },
   "file_extension": ".py",
   "mimetype": "text/x-python",
   "name": "python",
   "nbconvert_exporter": "python",
   "pygments_lexer": "ipython2",
   "version": "2.7.6"
  }
 },
 "nbformat": 4,
 "nbformat_minor": 5
}
