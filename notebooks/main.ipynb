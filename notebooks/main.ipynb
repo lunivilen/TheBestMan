{
 "cells": [
  {
   "cell_type": "code",
   "execution_count": null,
   "id": "initial_id",
   "metadata": {
    "collapsed": true
   },
   "outputs": [],
   "source": [
    "import matplotlib.pyplot as plt\n",
    "import statsmodels.api as sm\n",
    "import pandas as pd\n",
    "import numpy as np"
   ]
  },
  {
   "cell_type": "code",
   "execution_count": null,
   "outputs": [],
   "source": [
    "np.random.seed(123)\n",
    "x = np.random.normal(0, 1, 50)\n",
    "y = 2 - 3 * x + np.random.normal(0, 1, len(x))"
   ],
   "metadata": {
    "collapsed": false
   },
   "id": "fa51e52f61173a47"
  },
  {
   "cell_type": "code",
   "execution_count": null,
   "outputs": [],
   "source": [
    "plt.scatter(x, y)"
   ],
   "metadata": {
    "collapsed": false
   },
   "id": "1995589eec3497ea"
  },
  {
   "cell_type": "code",
   "execution_count": null,
   "outputs": [],
   "source": [
    "model = sm.OLS(endog=y, exog=sm.add_constant(x)).fit()"
   ],
   "metadata": {
    "collapsed": false
   },
   "id": "ad85e0e91a761234"
  },
  {
   "cell_type": "code",
   "execution_count": null,
   "outputs": [],
   "source": [
    "print(model.summary())"
   ],
   "metadata": {
    "collapsed": false
   },
   "id": "ecf053387dd9cbf3"
  },
  {
   "cell_type": "code",
   "execution_count": 126,
   "outputs": [],
   "source": [
    "df = pd.read_excel(\"../data/car_sales_train.xlsx\")"
   ],
   "metadata": {
    "collapsed": false,
    "ExecuteTime": {
     "end_time": "2023-09-09T12:27:01.005712200Z",
     "start_time": "2023-09-09T12:27:00.887151200Z"
    }
   },
   "id": "7cae4821265ccab2"
  },
  {
   "cell_type": "code",
   "execution_count": 127,
   "outputs": [
    {
     "data": {
      "text/plain": "<matplotlib.collections.PathCollection at 0x1e56c3a4df0>"
     },
     "execution_count": 127,
     "metadata": {},
     "output_type": "execute_result"
    },
    {
     "data": {
      "text/plain": "<Figure size 640x480 with 1 Axes>",
      "image/png": "[encoded data removed]"
     },
     "metadata": {},
     "output_type": "display_data"
    }
   ],
   "source": [
    "df = df[np.log(df[\"sales\"]) > 0]\n",
    "plt.scatter(np.log(df[\"price\"]), np.log(df[\"sales\"]))"
   ],
   "metadata": {
    "collapsed": false,
    "ExecuteTime": {
     "end_time": "2023-09-09T12:27:04.550993400Z",
     "start_time": "2023-09-09T12:27:04.233347700Z"
    }
   },
   "id": "9406cc0c94026661"
  },
  {
   "cell_type": "code",
   "execution_count": null,
   "outputs": [],
   "source": [
    "plt.scatter(np.log(df[\"price\"]), np.log(df[\"resale\"]))\n"
   ],
   "metadata": {
    "collapsed": false
   },
   "id": "6d95c10a481fbc5"
  },
  {
   "cell_type": "code",
   "execution_count": 128,
   "outputs": [
    {
     "data": {
      "text/plain": "         manufact     model   sales  resale  type  price  engine_s  horsepow  \\\n0           Acura   Integra  16.919  16.360     0  21.50       1.8     140.0   \n1           Acura        TL  39.384  19.875     0  28.40       3.2     225.0   \n3           Acura        RL   8.588  29.725     0  42.00       3.5     210.0   \n4            Audi        A4  20.397  22.255     0  23.99       1.8     150.0   \n5            Audi        A6  18.780  23.555     0  33.95       2.8     200.0   \n..            ...       ...     ...     ...   ...    ...       ...       ...   \n91        Mercury  Villager  20.380  14.795     1  22.51       3.3     170.0   \n92  Mercedes-Benz   C-Class  18.392  26.050     0  31.75       2.3     185.0   \n93  Mercedes-Benz   E-Class  27.602  41.450     0  49.90       3.2     221.0   \n94  Mercedes-Benz   S-Class  16.774  50.375     0  69.70       4.3     275.0   \n95  Mercedes-Benz  SL-Class   3.311  58.600     0  82.60       5.0     302.0   \n\n    wheelbas  width  length  curb_wgt  fuel_cap   mpg  \n0      101.2   67.3   172.4     2.639      13.2  28.0  \n1      108.1   70.3   192.9     3.517      17.2  25.0  \n3      114.6   71.4   196.6     3.850      18.0  22.0  \n4      102.6   68.2   178.0     2.998      16.4  27.0  \n5      108.7   76.1   192.0     3.561      18.5  22.0  \n..       ...    ...     ...       ...       ...   ...  \n91     112.2   74.9   194.7     3.944      20.0  21.0  \n92     105.9   67.7   177.4     3.250      16.4  26.0  \n93     111.5   70.8   189.4     3.823      21.1  25.0  \n94     121.5   73.1   203.1     4.133      23.2  21.0  \n95      99.0   71.3   177.1     4.125      21.1  20.0  \n\n[81 rows x 14 columns]",
      "text/html": "<div>\n<style scoped>\n    .dataframe tbody tr th:only-of-type {\n        vertical-align: middle;\n    }\n\n    .dataframe tbody tr th {\n        vertical-align: top;\n    }\n\n    .dataframe thead th {\n        text-align: right;\n    }\n</style>\n<table border=\"1\" class=\"dataframe\">\n  <thead>\n    <tr style=\"text-align: right;\">\n      <th></th>\n      <th>manufact</th>\n      <th>model</th>\n      <th>sales</th>\n      <th>resale</th>\n      <th>type</th>\n      <th>price</th>\n      <th>engine_s</th>\n      <th>horsepow</th>\n      <th>wheelbas</th>\n      <th>width</th>\n      <th>length</th>\n      <th>curb_wgt</th>\n      <th>fuel_cap</th>\n      <th>mpg</th>\n    </tr>\n  </thead>\n  <tbody>\n    <tr>\n      <th>0</th>\n      <td>Acura</td>\n      <td>Integra</td>\n      <td>16.919</td>\n      <td>16.360</td>\n      <td>0</td>\n      <td>21.50</td>\n      <td>1.8</td>\n      <td>140.0</td>\n      <td>101.2</td>\n      <td>67.3</td>\n      <td>172.4</td>\n      <td>2.639</td>\n      <td>13.2</td>\n      <td>28.0</td>\n    </tr>\n    <tr>\n      <th>1</th>\n      <td>Acura</td>\n      <td>TL</td>\n      <td>39.384</td>\n      <td>19.875</td>\n      <td>0</td>\n      <td>28.40</td>\n      <td>3.2</td>\n      <td>225.0</td>\n      <td>108.1</td>\n      <td>70.3</td>\n      <td>192.9</td>\n      <td>3.517</td>\n      <td>17.2</td>\n      <td>25.0</td>\n    </tr>\n    <tr>\n      <th>3</th>\n      <td>Acura</td>\n      <td>RL</td>\n      <td>8.588</td>\n      <td>29.725</td>\n      <td>0</td>\n      <td>42.00</td>\n      <td>3.5</td>\n      <td>210.0</td>\n      <td>114.6</td>\n      <td>71.4</td>\n      <td>196.6</td>\n      <td>3.850</td>\n      <td>18.0</td>\n      <td>22.0</td>\n    </tr>\n    <tr>\n      <th>4</th>\n      <td>Audi</td>\n      <td>A4</td>\n      <td>20.397</td>\n      <td>22.255</td>\n      <td>0</td>\n      <td>23.99</td>\n      <td>1.8</td>\n      <td>150.0</td>\n      <td>102.6</td>\n      <td>68.2</td>\n      <td>178.0</td>\n      <td>2.998</td>\n      <td>16.4</td>\n      <td>27.0</td>\n    </tr>\n    <tr>\n      <th>5</th>\n      <td>Audi</td>\n      <td>A6</td>\n      <td>18.780</td>\n      <td>23.555</td>\n      <td>0</td>\n      <td>33.95</td>\n      <td>2.8</td>\n      <td>200.0</td>\n      <td>108.7</td>\n      <td>76.1</td>\n      <td>192.0</td>\n      <td>3.561</td>\n      <td>18.5</td>\n      <td>22.0</td>\n    </tr>\n    <tr>\n      <th>...</th>\n      <td>...</td>\n      <td>...</td>\n      <td>...</td>\n      <td>...</td>\n      <td>...</td>\n      <td>...</td>\n      <td>...</td>\n      <td>...</td>\n      <td>...</td>\n      <td>...</td>\n      <td>...</td>\n      <td>...</td>\n      <td>...</td>\n      <td>...</td>\n    </tr>\n    <tr>\n      <th>91</th>\n      <td>Mercury</td>\n      <td>Villager</td>\n      <td>20.380</td>\n      <td>14.795</td>\n      <td>1</td>\n      <td>22.51</td>\n      <td>3.3</td>\n      <td>170.0</td>\n      <td>112.2</td>\n      <td>74.9</td>\n      <td>194.7</td>\n      <td>3.944</td>\n      <td>20.0</td>\n      <td>21.0</td>\n    </tr>\n    <tr>\n      <th>92</th>\n      <td>Mercedes-Benz</td>\n      <td>C-Class</td>\n      <td>18.392</td>\n      <td>26.050</td>\n      <td>0</td>\n      <td>31.75</td>\n      <td>2.3</td>\n      <td>185.0</td>\n      <td>105.9</td>\n      <td>67.7</td>\n      <td>177.4</td>\n      <td>3.250</td>\n      <td>16.4</td>\n      <td>26.0</td>\n    </tr>\n    <tr>\n      <th>93</th>\n      <td>Mercedes-Benz</td>\n      <td>E-Class</td>\n      <td>27.602</td>\n      <td>41.450</td>\n      <td>0</td>\n      <td>49.90</td>\n      <td>3.2</td>\n      <td>221.0</td>\n      <td>111.5</td>\n      <td>70.8</td>\n      <td>189.4</td>\n      <td>3.823</td>\n      <td>21.1</td>\n      <td>25.0</td>\n    </tr>\n    <tr>\n      <th>94</th>\n      <td>Mercedes-Benz</td>\n      <td>S-Class</td>\n      <td>16.774</td>\n      <td>50.375</td>\n      <td>0</td>\n      <td>69.70</td>\n      <td>4.3</td>\n      <td>275.0</td>\n      <td>121.5</td>\n      <td>73.1</td>\n      <td>203.1</td>\n      <td>4.133</td>\n      <td>23.2</td>\n      <td>21.0</td>\n    </tr>\n    <tr>\n      <th>95</th>\n      <td>Mercedes-Benz</td>\n      <td>SL-Class</td>\n      <td>3.311</td>\n      <td>58.600</td>\n      <td>0</td>\n      <td>82.60</td>\n      <td>5.0</td>\n      <td>302.0</td>\n      <td>99.0</td>\n      <td>71.3</td>\n      <td>177.1</td>\n      <td>4.125</td>\n      <td>21.1</td>\n      <td>20.0</td>\n    </tr>\n  </tbody>\n</table>\n<p>81 rows × 14 columns</p>\n</div>"
     },
     "execution_count": 128,
     "metadata": {},
     "output_type": "execute_result"
    }
   ],
   "source": [
    "\n",
    "df_2 = df[df[\"resale\"].notna() & df[\"price\"].notna()]\n",
    "df_2"
   ],
   "metadata": {
    "collapsed": false,
    "ExecuteTime": {
     "end_time": "2023-09-09T12:27:09.344184200Z",
     "start_time": "2023-09-09T12:27:09.264828700Z"
    }
   },
   "id": "fc2464c584b17ebe"
  },
  {
   "cell_type": "code",
   "execution_count": 129,
   "outputs": [
    {
     "name": "stdout",
     "output_type": "stream",
     "text": [
      "                            OLS Regression Results                            \n",
      "==============================================================================\n",
      "Dep. Variable:                 resale   R-squared:                       0.897\n",
      "Model:                            OLS   Adj. R-squared:                  0.895\n",
      "Method:                 Least Squares   F-statistic:                     686.3\n",
      "Date:                Sat, 09 Sep 2023   Prob (F-statistic):           1.05e-40\n",
      "Time:                        15:27:24   Log-Likelihood:                 35.523\n",
      "No. Observations:                  81   AIC:                            -67.05\n",
      "Df Residuals:                      79   BIC:                            -62.26\n",
      "Df Model:                           1                                         \n",
      "Covariance Type:            nonrobust                                         \n",
      "==============================================================================\n",
      "                 coef    std err          t      P>|t|      [0.025      0.975]\n",
      "------------------------------------------------------------------------------\n",
      "const         -0.5709      0.128     -4.466      0.000      -0.825      -0.316\n",
      "price          1.0467      0.040     26.197      0.000       0.967       1.126\n",
      "==============================================================================\n",
      "Omnibus:                        2.256   Durbin-Watson:                   1.418\n",
      "Prob(Omnibus):                  0.324   Jarque-Bera (JB):                2.253\n",
      "Skew:                           0.367   Prob(JB):                        0.324\n",
      "Kurtosis:                       2.641   Cond. No.                         25.5\n",
      "==============================================================================\n",
      "\n",
      "Notes:\n",
      "[1] Standard Errors assume that the covariance matrix of the errors is correctly specified.\n"
     ]
    }
   ],
   "source": [
    "model = sm.OLS(np.log(df_2[\"resale\"]), sm.add_constant(np.log(df_2[\"price\"]))).fit()\n",
    "print(model.summary())"
   ],
   "metadata": {
    "collapsed": false,
    "ExecuteTime": {
     "end_time": "2023-09-09T12:27:24.765634900Z",
     "start_time": "2023-09-09T12:27:24.703086300Z"
    }
   },
   "id": "1bd844c867e0e0bd"
  },
  {
   "cell_type": "code",
   "execution_count": 130,
   "outputs": [
    {
     "data": {
      "text/plain": "7     17.789567\n18    31.243609\n27    12.244786\n34    19.306756\n44    17.320698\n50     7.824734\n66    28.824740\n72    31.300211\n74    41.126784\n75    23.075239\n78    28.726055\n96    26.081456\n97    27.557089\n98    27.979356\ndtype: float64"
     },
     "execution_count": 130,
     "metadata": {},
     "output_type": "execute_result"
    }
   ],
   "source": [
    "factor = df[\"price\"][df[\"resale\"].isna() & df[\"price\"].notna()]\n",
    "predictions = np.exp(model.predict(sm.add_constant(np.log(factor))))\n",
    "predictions"
   ],
   "metadata": {
    "collapsed": false,
    "ExecuteTime": {
     "end_time": "2023-09-09T12:27:51.130979800Z",
     "start_time": "2023-09-09T12:27:51.101990800Z"
    }
   },
   "id": "d2ac7c0b6c45d3f6"
  },
  {
   "cell_type": "code",
   "execution_count": 131,
   "outputs": [],
   "source": [
    "df[\"resale\"][df[\"resale\"].isna() & df[\"price\"].notna()] = predictions"
   ],
   "metadata": {
    "collapsed": false,
    "ExecuteTime": {
     "end_time": "2023-09-09T12:28:06.674202100Z",
     "start_time": "2023-09-09T12:28:06.633934300Z"
    }
   },
   "id": "6390f467ba4dde01"
  },
  {
   "cell_type": "code",
   "execution_count": 132,
   "outputs": [
    {
     "data": {
      "text/plain": "         manufact      model   sales     resale  type  price  engine_s  \\\n0           Acura    Integra  16.919  16.360000     0  21.50       1.8   \n1           Acura         TL  39.384  19.875000     0  28.40       3.2   \n2           Acura         CL  14.114  18.225000     0    NaN       3.2   \n3           Acura         RL   8.588  29.725000     0  42.00       3.5   \n4            Audi         A4  20.397  22.255000     0  23.99       1.8   \n..            ...        ...     ...        ...   ...    ...       ...   \n94  Mercedes-Benz    S-Class  16.774  50.375000     0  69.70       4.3   \n95  Mercedes-Benz   SL-Class   3.311  58.600000     0  82.60       5.0   \n96  Mercedes-Benz        SLK   7.998  26.081456     0  38.90       2.3   \n97  Mercedes-Benz     SLK230   1.526  27.557089     0  41.00       2.3   \n98  Mercedes-Benz  CLK Coupe  11.592  27.979356     0  41.60       3.2   \n\n    horsepow  wheelbas  width  length  curb_wgt  fuel_cap   mpg  \n0      140.0     101.2   67.3   172.4     2.639      13.2  28.0  \n1      225.0     108.1   70.3   192.9     3.517      17.2  25.0  \n2      225.0     106.9   70.6   192.0     3.470      17.2  26.0  \n3      210.0     114.6   71.4   196.6     3.850      18.0  22.0  \n4      150.0     102.6   68.2   178.0     2.998      16.4  27.0  \n..       ...       ...    ...     ...       ...       ...   ...  \n94     275.0     121.5   73.1   203.1     4.133      23.2  21.0  \n95     302.0      99.0   71.3   177.1     4.125      21.1  20.0  \n96     190.0      94.5   67.5   157.9     3.055      15.9  26.0  \n97     185.0      94.5   67.5   157.3     2.975      14.0  27.0  \n98     215.0     105.9   67.8   180.3     3.213      16.4  26.0  \n\n[97 rows x 14 columns]",
      "text/html": "<div>\n<style scoped>\n    .dataframe tbody tr th:only-of-type {\n        vertical-align: middle;\n    }\n\n    .dataframe tbody tr th {\n        vertical-align: top;\n    }\n\n    .dataframe thead th {\n        text-align: right;\n    }\n</style>\n<table border=\"1\" class=\"dataframe\">\n  <thead>\n    <tr style=\"text-align: right;\">\n      <th></th>\n      <th>manufact</th>\n      <th>model</th>\n      <th>sales</th>\n      <th>resale</th>\n      <th>type</th>\n      <th>price</th>\n      <th>engine_s</th>\n      <th>horsepow</th>\n      <th>wheelbas</th>\n      <th>width</th>\n      <th>length</th>\n      <th>curb_wgt</th>\n      <th>fuel_cap</th>\n      <th>mpg</th>\n    </tr>\n  </thead>\n  <tbody>\n    <tr>\n      <th>0</th>\n      <td>Acura</td>\n      <td>Integra</td>\n      <td>16.919</td>\n      <td>16.360000</td>\n      <td>0</td>\n      <td>21.50</td>\n      <td>1.8</td>\n      <td>140.0</td>\n      <td>101.2</td>\n      <td>67.3</td>\n      <td>172.4</td>\n      <td>2.639</td>\n      <td>13.2</td>\n      <td>28.0</td>\n    </tr>\n    <tr>\n      <th>1</th>\n      <td>Acura</td>\n      <td>TL</td>\n      <td>39.384</td>\n      <td>19.875000</td>\n      <td>0</td>\n      <td>28.40</td>\n      <td>3.2</td>\n      <td>225.0</td>\n      <td>108.1</td>\n      <td>70.3</td>\n      <td>192.9</td>\n      <td>3.517</td>\n      <td>17.2</td>\n      <td>25.0</td>\n    </tr>\n    <tr>\n      <th>2</th>\n      <td>Acura</td>\n      <td>CL</td>\n      <td>14.114</td>\n      <td>18.225000</td>\n      <td>0</td>\n      <td>NaN</td>\n      <td>3.2</td>\n      <td>225.0</td>\n      <td>106.9</td>\n      <td>70.6</td>\n      <td>192.0</td>\n      <td>3.470</td>\n      <td>17.2</td>\n      <td>26.0</td>\n    </tr>\n    <tr>\n      <th>3</th>\n      <td>Acura</td>\n      <td>RL</td>\n      <td>8.588</td>\n      <td>29.725000</td>\n      <td>0</td>\n      <td>42.00</td>\n      <td>3.5</td>\n      <td>210.0</td>\n      <td>114.6</td>\n      <td>71.4</td>\n      <td>196.6</td>\n      <td>3.850</td>\n      <td>18.0</td>\n      <td>22.0</td>\n    </tr>\n    <tr>\n      <th>4</th>\n      <td>Audi</td>\n      <td>A4</td>\n      <td>20.397</td>\n      <td>22.255000</td>\n      <td>0</td>\n      <td>23.99</td>\n      <td>1.8</td>\n      <td>150.0</td>\n      <td>102.6</td>\n      <td>68.2</td>\n      <td>178.0</td>\n      <td>2.998</td>\n      <td>16.4</td>\n      <td>27.0</td>\n    </tr>\n    <tr>\n      <th>...</th>\n      <td>...</td>\n      <td>...</td>\n      <td>...</td>\n      <td>...</td>\n      <td>...</td>\n      <td>...</td>\n      <td>...</td>\n      <td>...</td>\n      <td>...</td>\n      <td>...</td>\n      <td>...</td>\n      <td>...</td>\n      <td>...</td>\n      <td>...</td>\n    </tr>\n    <tr>\n      <th>94</th>\n      <td>Mercedes-Benz</td>\n      <td>S-Class</td>\n      <td>16.774</td>\n      <td>50.375000</td>\n      <td>0</td>\n      <td>69.70</td>\n      <td>4.3</td>\n      <td>275.0</td>\n      <td>121.5</td>\n      <td>73.1</td>\n      <td>203.1</td>\n      <td>4.133</td>\n      <td>23.2</td>\n      <td>21.0</td>\n    </tr>\n    <tr>\n      <th>95</th>\n      <td>Mercedes-Benz</td>\n      <td>SL-Class</td>\n      <td>3.311</td>\n      <td>58.600000</td>\n      <td>0</td>\n      <td>82.60</td>\n      <td>5.0</td>\n      <td>302.0</td>\n      <td>99.0</td>\n      <td>71.3</td>\n      <td>177.1</td>\n      <td>4.125</td>\n      <td>21.1</td>\n      <td>20.0</td>\n    </tr>\n    <tr>\n      <th>96</th>\n      <td>Mercedes-Benz</td>\n      <td>SLK</td>\n      <td>7.998</td>\n      <td>26.081456</td>\n      <td>0</td>\n      <td>38.90</td>\n      <td>2.3</td>\n      <td>190.0</td>\n      <td>94.5</td>\n      <td>67.5</td>\n      <td>157.9</td>\n      <td>3.055</td>\n      <td>15.9</td>\n      <td>26.0</td>\n    </tr>\n    <tr>\n      <th>97</th>\n      <td>Mercedes-Benz</td>\n      <td>SLK230</td>\n      <td>1.526</td>\n      <td>27.557089</td>\n      <td>0</td>\n      <td>41.00</td>\n      <td>2.3</td>\n      <td>185.0</td>\n      <td>94.5</td>\n      <td>67.5</td>\n      <td>157.3</td>\n      <td>2.975</td>\n      <td>14.0</td>\n      <td>27.0</td>\n    </tr>\n    <tr>\n      <th>98</th>\n      <td>Mercedes-Benz</td>\n      <td>CLK Coupe</td>\n      <td>11.592</td>\n      <td>27.979356</td>\n      <td>0</td>\n      <td>41.60</td>\n      <td>3.2</td>\n      <td>215.0</td>\n      <td>105.9</td>\n      <td>67.8</td>\n      <td>180.3</td>\n      <td>3.213</td>\n      <td>16.4</td>\n      <td>26.0</td>\n    </tr>\n  </tbody>\n</table>\n<p>97 rows × 14 columns</p>\n</div>"
     },
     "execution_count": 132,
     "metadata": {},
     "output_type": "execute_result"
    }
   ],
   "source": [
    "df"
   ],
   "metadata": {
    "collapsed": false,
    "ExecuteTime": {
     "end_time": "2023-09-09T12:28:07.935392600Z",
     "start_time": "2023-09-09T12:28:07.861969200Z"
    }
   },
   "id": "8ad2c727b27428a3"
  },
  {
   "cell_type": "code",
   "execution_count": null,
   "outputs": [],
   "source": [],
   "metadata": {
    "collapsed": false
   },
   "id": "2dc0a8a3f069f532"
  }
 ],
 "metadata": {
  "kernelspec": {
   "display_name": "Python 3",
   "language": "python",
   "name": "python3"
  },
  "language_info": {
   "codemirror_mode": {
    "name": "ipython",
    "version": 2
   },
   "file_extension": ".py",
   "mimetype": "text/x-python",
   "name": "python",
   "nbconvert_exporter": "python",
   "pygments_lexer": "ipython2",
   "version": "2.7.6"
  }
 },
 "nbformat": 4,
 "nbformat_minor": 5
}
