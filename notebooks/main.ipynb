{
 "cells": [
  {
   "cell_type": "code",
   "execution_count": null,
   "id": "initial_id",
   "metadata": {
    "collapsed": true
   },
   "outputs": [],
   "source": [
    "import matplotlib.pyplot as plt\n",
    "import statsmodels.api as sm\n",
    "import pandas as pd\n",
    "import numpy as np"
   ]
  },
  {
   "cell_type": "code",
   "execution_count": null,
   "outputs": [],
   "source": [
    "np.random.seed(123)\n",
    "x = np.random.normal(0, 1, 50)\n",
    "y = 2 - 3 * x + np.random.normal(0, 1, len(x))"
   ],
   "metadata": {
    "collapsed": false
   },
   "id": "fa51e52f61173a47"
  },
  {
   "cell_type": "code",
   "execution_count": null,
   "outputs": [],
   "source": [
    "plt.scatter(x, y)"
   ],
   "metadata": {
    "collapsed": false
   },
   "id": "1995589eec3497ea"
  },
  {
   "cell_type": "code",
   "execution_count": null,
   "outputs": [],
   "source": [
    "model = sm.OLS(endog=y, exog=sm.add_constant(x)).fit()"
   ],
   "metadata": {
    "collapsed": false
   },
   "id": "ad85e0e91a761234"
  },
  {
   "cell_type": "code",
   "execution_count": null,
   "outputs": [],
   "source": [
    "print(model.summary())"
   ],
   "metadata": {
    "collapsed": false
   },
   "id": "ecf053387dd9cbf3"
  },
  {
   "cell_type": "code",
   "execution_count": null,
   "outputs": [],
   "source": [
    "df = pd.read_excel(\"../data/car_sales_train.xlsx\")"
   ],
   "metadata": {
    "collapsed": false
   },
   "id": "7cae4821265ccab2"
  },
  {
   "cell_type": "code",
   "execution_count": null,
   "outputs": [],
   "source": [
    "df = df[np.log(df[\"sales\"]) > 0]\n",
    "plt.scatter(np.log(df[\"price\"]), np.log(df[\"sales\"]))"
   ],
   "metadata": {
    "collapsed": false
   },
   "id": "9406cc0c94026661"
  },
  {
   "cell_type": "code",
   "execution_count": null,
   "outputs": [],
   "source": [
    "plt.scatter(np.log(df[\"price\"]), np.log(df[\"resale\"]))\n"
   ],
   "metadata": {
    "collapsed": false
   },
   "id": "6d95c10a481fbc5"
  },
  {
   "cell_type": "code",
   "execution_count": null,
   "outputs": [],
   "source": [
    "df_2 = df[df[\"resale\"].notna() & df[\"price\"].notna()]\n",
    "df_2"
   ],
   "metadata": {
    "collapsed": false
   },
   "id": "fc2464c584b17ebe"
  },
  {
   "cell_type": "code",
   "execution_count": null,
   "outputs": [],
   "source": [
    "model = sm.OLS(np.log(df_2[\"resale\"]), sm.add_constant(np.log(df_2[\"price\"]))).fit()\n",
    "print(model.summary())"
   ],
   "metadata": {
    "collapsed": false
   },
   "id": "1bd844c867e0e0bd"
  },
  {
   "cell_type": "code",
   "execution_count": null,
   "outputs": [],
   "source": [
    "factor = df[\"price\"][df[\"resale\"].isna() & df[\"price\"].notna()]\n",
    "predictions = np.exp(model.predict(sm.add_constant(np.log(factor))))\n",
    "predictions"
   ],
   "metadata": {
    "collapsed": false
   },
   "id": "d2ac7c0b6c45d3f6"
  },
  {
   "cell_type": "code",
   "execution_count": null,
   "outputs": [],
   "source": [
    "df[\"resale\"][df[\"resale\"].isna() & df[\"price\"].notna()] = predictions"
   ],
   "metadata": {
    "collapsed": false
   },
   "id": "6390f467ba4dde01"
  },
  {
   "cell_type": "code",
   "execution_count": null,
   "outputs": [],
   "source": [
    "df"
   ],
   "metadata": {
    "collapsed": false
   },
   "id": "8ad2c727b27428a3"
  },
  {
   "cell_type": "code",
   "execution_count": null,
   "outputs": [],
   "source": [],
   "metadata": {
    "collapsed": false
   },
   "id": "2dc0a8a3f069f532"
  }
 ],
 "metadata": {
  "kernelspec": {
   "display_name": "Python 3",
   "language": "python",
   "name": "python3"
  },
  "language_info": {
   "codemirror_mode": {
    "name": "ipython",
    "version": 2
   },
   "file_extension": ".py",
   "mimetype": "text/x-python",
   "name": "python",
   "nbconvert_exporter": "python",
   "pygments_lexer": "ipython2",
   "version": "2.7.6"
  }
 },
 "nbformat": 4,
 "nbformat_minor": 5
}
