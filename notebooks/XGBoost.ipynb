{
 "cells": [
  {
   "cell_type": "code",
   "execution_count": null,
   "outputs": [],
   "source": [
    "from sklearn.model_selection import train_test_split, RandomizedSearchCV, StratifiedKFold\n",
    "from sklearn.metrics import roc_auc_score, roc_curve\n",
    "import matplotlib.pyplot as plt\n",
    "import xgboost as xgb\n",
    "import pandas as pd"
   ],
   "metadata": {
    "collapsed": false
   },
   "id": "ab67be75a99203a9"
  },
  {
   "cell_type": "code",
   "execution_count": 1,
   "outputs": [
    {
     "ename": "NameError",
     "evalue": "name 'pd' is not defined",
     "output_type": "error",
     "traceback": [
      "\u001B[1;31m---------------------------------------------------------------------------\u001B[0m",
      "\u001B[1;31mNameError\u001B[0m                                 Traceback (most recent call last)",
      "Cell \u001B[1;32mIn[1], line 2\u001B[0m\n\u001B[0;32m      1\u001B[0m \u001B[38;5;66;03m# df = pd.read_csv(\"/cephfs/projects/ikozmin/TEST/scoring_case.csv\")\u001B[39;00m\n\u001B[1;32m----> 2\u001B[0m df \u001B[38;5;241m=\u001B[39m \u001B[43mpd\u001B[49m\u001B[38;5;241m.\u001B[39mread_csv(\u001B[38;5;124m\"\u001B[39m\u001B[38;5;124m../data/insurance_claims.csv\u001B[39m\u001B[38;5;124m\"\u001B[39m)\n\u001B[0;32m      4\u001B[0m \u001B[38;5;66;03m# for column in df.columns:\u001B[39;00m\n\u001B[0;32m      5\u001B[0m \u001B[38;5;66;03m#     if str(df[column].dtype) == 'object':\u001B[39;00m\n\u001B[0;32m      6\u001B[0m \u001B[38;5;66;03m#         df[column] = pd.factorize(df[column])[0]\u001B[39;00m\n",
      "\u001B[1;31mNameError\u001B[0m: name 'pd' is not defined"
     ]
    }
   ],
   "source": [
    "# df = pd.read_csv(\"/cephfs/projects/ikozmin/TEST/scoring_case.csv\")\n",
    "df = pd.read_csv(\"../data/z.csv\")\n",
    "\n",
    "for column in df.columns:\n",
    "    if str(df[column].dtype) == 'object':\n",
    "        df[column] = pd.factorize(df[column])[0]"
   ],
   "metadata": {
    "collapsed": false,
    "ExecuteTime": {
     "end_time": "2023-10-14T07:48:56.172915300Z",
     "start_time": "2023-10-14T07:48:53.894184700Z"
    }
   },
   "id": "2549c3b87ebe005f"
  },
  {
   "cell_type": "code",
   "execution_count": null,
   "outputs": [],
   "source": [
    "df.dropna(axis=1, thresh=int(0.8 * df.shape[0]), inplace=True)\n",
    "df = df.drop([\"FLAG_MOBIL\", \"SK_ID_CURR\"], axis=1)\n",
    "# 1 - df.isna().sum() / len(df)"
   ],
   "metadata": {
    "collapsed": false
   },
   "id": "13273fd2b58ae697"
  },
  {
   "cell_type": "code",
   "execution_count": null,
   "outputs": [],
   "source": [
    "for column in df.columns:\n",
    "    if column == 'TARGET':\n",
    "        continue\n",
    "\n",
    "    df[column] = df[column].fillna(round(df[column].mode()[0]))"
   ],
   "metadata": {
    "collapsed": false
   },
   "id": "e66a9cc86f5a31cc"
  },
  {
   "cell_type": "code",
   "execution_count": null,
   "outputs": [],
   "source": [
    "df = df.dropna()"
   ],
   "metadata": {
    "collapsed": false
   },
   "id": "initial_id"
  },
  {
   "cell_type": "code",
   "execution_count": null,
   "outputs": [],
   "source": [
    "result = []\n",
    "x = df.drop([\"TARGET\"], axis=1)\n",
    "y = df[\"TARGET\"]\n",
    "\n",
    "random_state = 64\n",
    "# Разделяем данные на обучающий и тестовый наборы\n",
    "x_train, x_test, y_train, y_test = train_test_split(x, y, test_size=0.3, random_state=random_state)\n",
    "\n",
    "count_class_0, count_class_1 = y_train.value_counts()\n",
    "\n",
    "scale_pos_weight = count_class_0 / count_class_1"
   ],
   "metadata": {
    "collapsed": false
   },
   "id": "ffe309d39c53f279"
  },
  {
   "cell_type": "code",
   "execution_count": null,
   "outputs": [],
   "source": [
    "param_grid = {\n",
    "    'max_depth': range(1, 20),\n",
    "    'n_estimators': range(10, 1000, 20),\n",
    "    'learning_rate': [0.001, 0.005, 0.01, 0.05, 0.1, 0.2],\n",
    "    'gamma': [x / 10 for x in range(10)],\n",
    "    'min_child_weight': [1, 5, 10, 15, 30, 100],\n",
    "    'max_delta_step': range(10),\n",
    "}\n",
    "\n",
    "model = xgb.XGBClassifier(random_state=random_state,\n",
    "                          scale_pos_weight=scale_pos_weight,\n",
    "                          objective='binary:logistic')\n",
    "\n",
    "cv = StratifiedKFold(n_splits=5, shuffle=True, random_state=random_state)\n",
    "\n",
    "for i in range(1):\n",
    "    grid_search = RandomizedSearchCV(estimator=model,\n",
    "                                     param_distributions=param_grid,\n",
    "                                     scoring='roc_auc',\n",
    "                                     cv=cv,\n",
    "                                     n_iter=1,\n",
    "                                     random_state=i)\n",
    "    grid_search.fit(x_train, y_train)\n",
    "    best_params = grid_search.best_params_\n",
    "    best_score = grid_search.best_score_\n",
    "\n",
    "    # Обучение\n",
    "    best_model = xgb.XGBClassifier(random_state=random_state, scale_pos_weight=scale_pos_weight, **best_params)\n",
    "    best_model.fit(x_train, y_train)\n",
    "\n",
    "    result.append([roc_auc_score(y_train, best_model.predict(x_train)),\n",
    "                   roc_auc_score(y_test, best_model.predict(x_test)),\n",
    "                   best_params])\n",
    "    print(i, roc_auc_score(y_test, best_model.predict(x_test)))\n",
    "sorted(result, key=lambda g: g[1])[-1]"
   ],
   "metadata": {
    "collapsed": false
   },
   "id": "80aa0ec68787f169"
  },
  {
   "cell_type": "code",
   "execution_count": null,
   "outputs": [],
   "source": [
    "model = xgb.XGBClassifier(random_state=random_state,\n",
    "                          scale_pos_weight=scale_pos_weight,\n",
    "                          n_estimators=80,\n",
    "                          max_depth=4,\n",
    "                          learning_rate=0.0005,\n",
    "                          gamma=40,\n",
    "                          alpha=0.7\n",
    "                          )\n",
    "model.fit(x_train, y_train)\n",
    "print(1)"
   ],
   "metadata": {
    "collapsed": false
   },
   "id": "31fa0d71c0b9ace9"
  },
  {
   "cell_type": "code",
   "execution_count": null,
   "outputs": [],
   "source": [
    "fig, axs = plt.subplots(1, 2, figsize=(15, 5))\n",
    "title = [\"train\", \"test\"]\n",
    "for i, data in enumerate([[x_train, y_train], [x_test, y_test]]):\n",
    "    prediction, target_list = model.predict_proba(data[0])[:, [1]], data[1]\n",
    "    logit_roc_aut = roc_auc_score(target_list, prediction)\n",
    "    fpr, tpr, thresholds = roc_curve(target_list, prediction)\n",
    "\n",
    "    axs[i].plot(fpr, tpr, logit_roc_aut)\n",
    "    axs[i].plot([0, 1], [0, 1], '--')\n",
    "    axs[i].set_title(f\"{title[i]} - ({round(logit_roc_aut, 4)})\")\n",
    "plt.show()"
   ],
   "metadata": {
    "collapsed": false
   },
   "id": "bb20ea4d9f36083e"
  },
  {
   "cell_type": "code",
   "execution_count": null,
   "outputs": [],
   "source": [
    "y_test.tolist().count(1)"
   ],
   "metadata": {
    "collapsed": false
   },
   "id": "111b3e8785e28f1b"
  },
  {
   "cell_type": "code",
   "execution_count": null,
   "outputs": [],
   "source": [
    "df = pd.read_csv(\"../data/scoring_case.csv\")\n",
    "\n",
    "for column in df.columns:\n",
    "    if str(df[column].dtype) == 'object':\n",
    "        df[column] = pd.factorize(df[column])[0]\n",
    "\n",
    "df.dropna(axis=1, thresh=int(0.8 * df.shape[0]), inplace=True)\n",
    "df = df.drop([\"FLAG_MOBIL\", \"SK_ID_CURR\"], axis=1)\n",
    "\n",
    "for column in df.columns:\n",
    "    if column == 'TARGET':\n",
    "        continue\n",
    "\n",
    "    df[column] = df[column].fillna(round(df[column].mode()[0]))\n",
    "    \n",
    "df = df[df[\"TARGET\"].isna()]\n",
    "\n",
    "x = df.drop([\"TARGET\"], axis=1) \n",
    "y = df[\"TARGET\"]\n",
    "\n",
    "prediction = model.predict_proba(x)[:, [1]]\n",
    "prediction_df = pd.DataFrame(prediction, columns=[\"TARGET\"])\n",
    "prediction_df.to_csv(\"prediction.csv\", index=False)"
   ],
   "metadata": {
    "collapsed": false
   },
   "id": "d7baecda08d2e88"
  }
 ],
 "metadata": {
  "kernelspec": {
   "display_name": "Python 3",
   "language": "python",
   "name": "python3"
  },
  "language_info": {
   "codemirror_mode": {
    "name": "ipython",
    "version": 2
   },
   "file_extension": ".py",
   "mimetype": "text/x-python",
   "name": "python",
   "nbconvert_exporter": "python",
   "pygments_lexer": "ipython2",
   "version": "2.7.6"
  }
 },
 "nbformat": 4,
 "nbformat_minor": 5
}
