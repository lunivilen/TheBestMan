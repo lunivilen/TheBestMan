{
 "cells": [
  {
   "cell_type": "code",
   "execution_count": null,
   "outputs": [],
   "source": [
    "from sklearn.metrics import roc_auc_score, roc_curve\n",
    "from sklearn.model_selection import train_test_split\n",
    "from sklearn.model_selection import RandomizedSearchCV, StratifiedKFold\n",
    "import matplotlib.pyplot as plt\n",
    "import xgboost as xgb\n",
    "import pandas as pd"
   ],
   "metadata": {
    "collapsed": false
   },
   "id": "ab67be75a99203a9"
  },
  {
   "cell_type": "code",
   "execution_count": null,
   "outputs": [],
   "source": [
    "# df = pd.read_csv(\"/cephfs/projects/ikozmin/TEST/scoring_case.csv\")\n",
    "df = pd.read_csv(\"../data/scoring_case.csv\")\n",
    "\n",
    "for column in df.columns:\n",
    "    if str(df[column].dtype) == 'object':\n",
    "        df[column] = pd.factorize(df[column])[0]"
   ],
   "metadata": {
    "collapsed": false
   },
   "id": "2549c3b87ebe005f"
  },
  {
   "cell_type": "code",
   "execution_count": null,
   "outputs": [],
   "source": [
    "df.dropna(axis=1, thresh=int(0.8 * df.shape[0]), inplace=True)\n",
    "df = df.drop([\"FLAG_MOBIL\", \"SK_ID_CURR\"], axis=1)\n",
    "# 1 - df.isna().sum() / len(df)"
   ],
   "metadata": {
    "collapsed": false
   },
   "id": "13273fd2b58ae697"
  },
  {
   "cell_type": "code",
   "execution_count": null,
   "outputs": [],
   "source": [
    "for column in df.columns:\n",
    "    if column == 'TARGET':\n",
    "        continue\n",
    "\n",
    "    df[column] = df[column].fillna(round(df[column].mode()[0]))"
   ],
   "metadata": {
    "collapsed": false
   },
   "id": "e66a9cc86f5a31cc"
  },
  {
   "cell_type": "code",
   "execution_count": null,
   "outputs": [],
   "source": [
    "df = df.dropna()"
   ],
   "metadata": {
    "collapsed": false
   },
   "id": "initial_id"
  },
  {
   "cell_type": "code",
   "execution_count": null,
   "outputs": [],
   "source": [
    "result = []"
   ],
   "metadata": {
    "collapsed": false
   },
   "id": "ffe309d39c53f279"
  },
  {
   "cell_type": "code",
   "execution_count": null,
   "outputs": [],
   "source": [
    "x = df.drop([\"TARGET\"], axis=1)\n",
    "y = df[\"TARGET\"]\n",
    "\n",
    "random_state = 64\n",
    "# Разделите данные на обучающий и тестовый наборы\n",
    "x_train, x_test, y_train, y_test = train_test_split(x, y, test_size=0.3, random_state=random_state)\n",
    "\n",
    "# Подсчитайте количество примеров в каждом классе\n",
    "count_class_0, count_class_1 = y_train.value_counts()\n",
    "\n",
    "scale_pos_weight = count_class_0 / count_class_1\n",
    "\n",
    "param_grid = {\n",
    "    'max_depth': range(1, 20),\n",
    "    'n_estimators': range(10, 1000, 20),\n",
    "    'learning_rate': [0.001, 0.005, 0.01, 0.05, 0.1, 0.2],\n",
    "    'eta': [x/10 for x in range(10)],\n",
    "    'gamma': [x/10 for x in range(10)],\n",
    "    'min_child_weight': [1, 5, 10, 15, 30, 100],\n",
    "    'max_delta_step': range(10),\n",
    "}\n",
    "\n",
    "model = xgb.XGBClassifier(random_state=random_state,\n",
    "                          scale_pos_weight=scale_pos_weight,\n",
    "                          objective='binary:logistic')\n",
    "\n",
    "cv = StratifiedKFold(n_splits=5, shuffle=True, random_state=random_state)\n",
    "\n",
    "for i in range(2):\n",
    "    grid_search = RandomizedSearchCV(estimator=model,\n",
    "                                     param_distributions=param_grid,\n",
    "                                     scoring='roc_auc',\n",
    "                                     cv=cv,\n",
    "                                     n_iter=1,\n",
    "                                     verbose=1,\n",
    "                                     random_state=i)\n",
    "    grid_search.fit(x_train, y_train)\n",
    "    best_params = grid_search.best_params_\n",
    "    best_score = grid_search.best_score_\n",
    "    \n",
    "    # Обучение\n",
    "    best_model = xgb.XGBClassifier(random_state=random_state, scale_pos_weight=scale_pos_weight, **best_params)\n",
    "    best_model.fit(x_train, y_train)\n",
    "    \n",
    "    result.append([roc_auc_score(y_train, best_model.predict(x_train)),\n",
    "                   roc_auc_score(y_test, best_model.predict(x_test)),\n",
    "                   best_params])\n",
    "    print(i)\n",
    "sorted(result, key=lambda g: g[1])[-1]"
   ],
   "metadata": {
    "collapsed": false
   },
   "id": "80aa0ec68787f169"
  },
  {
   "cell_type": "code",
   "execution_count": null,
   "outputs": [],
   "source": [
    "fig, axs = plt.subplots(1, 2, figsize=(15, 5))\n",
    "title = [\"train\", \"test\"]\n",
    "for i, data in enumerate([[x_train, y_train], [x_test, y_test]]):\n",
    "    prediction, target_list = best_model.predict(data[0]), data[1]\n",
    "    logit_roc_aut = roc_auc_score(target_list, prediction)\n",
    "    fpr, tpr, thresholds = roc_curve(target_list, prediction)\n",
    "\n",
    "    axs[i].plot(fpr, tpr, logit_roc_aut)\n",
    "    axs[i].plot([0, 1], [0, 1], '--')\n",
    "    axs[i].set_title(f\"{title[i]} - ({round(logit_roc_aut, 4)})\")\n",
    "plt.show()"
   ],
   "metadata": {
    "collapsed": false
   },
   "id": "bb20ea4d9f36083e"
  }
 ],
 "metadata": {
  "kernelspec": {
   "display_name": "Python 3",
   "language": "python",
   "name": "python3"
  },
  "language_info": {
   "codemirror_mode": {
    "name": "ipython",
    "version": 2
   },
   "file_extension": ".py",
   "mimetype": "text/x-python",
   "name": "python",
   "nbconvert_exporter": "python",
   "pygments_lexer": "ipython2",
   "version": "2.7.6"
  }
 },
 "nbformat": 4,
 "nbformat_minor": 5
}
